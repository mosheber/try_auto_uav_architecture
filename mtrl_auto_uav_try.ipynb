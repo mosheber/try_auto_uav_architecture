{
  "nbformat": 4,
  "nbformat_minor": 0,
  "metadata": {
    "colab": {
      "name": "mtrl-auto-uav_try.ipynb",
      "provenance": [],
      "collapsed_sections": [],
      "authorship_tag": "ABX9TyNV7qiyqSDgiKW5MANo7+iT",
      "include_colab_link": true
    },
    "kernelspec": {
      "name": "python3",
      "display_name": "Python 3"
    }
  },
  "cells": [
    {
      "cell_type": "markdown",
      "metadata": {
        "id": "view-in-github",
        "colab_type": "text"
      },
      "source": [
        "<a href=\"https://colab.research.google.com/github/mosheber/try_auto_uav_architecture/blob/master/mtrl_auto_uav_try.ipynb\" target=\"_parent\"><img src=\"https://colab.research.google.com/assets/colab-badge.svg\" alt=\"Open In Colab\"/></a>"
      ]
    },
    {
      "cell_type": "code",
      "metadata": {
        "id": "h8z3WlVLMnoE",
        "colab_type": "code",
        "colab": {
          "base_uri": "https://localhost:8080/",
          "height": 204
        },
        "outputId": "35e369de-a06b-4a99-f0fb-5219e70faa18"
      },
      "source": [
        "!wget https://zenodo.org/record/3270774/files/manual_4.zip"
      ],
      "execution_count": 6,
      "outputs": [
        {
          "output_type": "stream",
          "text": [
            "--2020-09-12 21:22:15--  https://zenodo.org/record/3270774/files/manual_4.zip\n",
            "Resolving zenodo.org (zenodo.org)... 188.184.117.155\n",
            "Connecting to zenodo.org (zenodo.org)|188.184.117.155|:443... connected.\n",
            "HTTP request sent, awaiting response... 200 OK\n",
            "Length: 5569974696 (5.2G) [application/octet-stream]\n",
            "Saving to: ‘manual_4.zip’\n",
            "\n",
            "manual_4.zip        100%[===================>]   5.19G  4.92MB/s    in 11m 29s \n",
            "\n",
            "2020-09-12 21:33:47 (7.71 MB/s) - ‘manual_4.zip’ saved [5569974696/5569974696]\n",
            "\n"
          ],
          "name": "stdout"
        }
      ]
    },
    {
      "cell_type": "code",
      "metadata": {
        "id": "zQkJGqw8NigZ",
        "colab_type": "code",
        "colab": {
          "base_uri": "https://localhost:8080/",
          "height": 136
        },
        "outputId": "dbb8b99e-8307-43ff-b717-5f2c195cf4f8"
      },
      "source": [
        "!unzip manual_4.zip"
      ],
      "execution_count": 8,
      "outputs": [
        {
          "output_type": "stream",
          "text": [
            "Archive:  manual_4.zip\n",
            "warning [manual_4.zip]:  1273994048 extra bytes at beginning or within zipfile\n",
            "  (attempting to process anyway)\n",
            "error [manual_4.zip]:  start of central directory not found;\n",
            "  zipfile corrupt.\n",
            "  (please check that you have transferred or created the zipfile in the\n",
            "  appropriate BINARY mode and that you have compiled UnZip properly)\n"
          ],
          "name": "stdout"
        }
      ]
    },
    {
      "cell_type": "code",
      "metadata": {
        "id": "d-h3d5FyEjvp",
        "colab_type": "code",
        "colab": {}
      },
      "source": [
        "import torch"
      ],
      "execution_count": 9,
      "outputs": []
    },
    {
      "cell_type": "code",
      "metadata": {
        "id": "AEMVS9TcLB-X",
        "colab_type": "code",
        "colab": {}
      },
      "source": [
        "def get_cnn_output_size(N,k,F,s):\n",
        "  return int((N+2*k-F)/s + 1)"
      ],
      "execution_count": 10,
      "outputs": []
    },
    {
      "cell_type": "code",
      "metadata": {
        "id": "AKsudev8EkmE",
        "colab_type": "code",
        "colab": {}
      },
      "source": [
        "from torch import nn\n",
        "class ConvNet(nn.Module):  \n",
        "  def __init__(self,image_size,\n",
        "               input_channels=3,\n",
        "               init_transform_channel_power=4,\n",
        "               conv_layer_count=2,\n",
        "               conv_kernel_size=3,\n",
        "               conv_stride=1,\n",
        "               max_pool_kernel_size=2,\n",
        "               max_pool_stride=2,\n",
        "               fc_layer_count=4,\n",
        "               fc_dropout=0.3,\n",
        "               fc_ned_dropout=0.5,\n",
        "               fc_quat_dropout=0.25):\n",
        "    super().__init__()\n",
        "    self.image_size = image_size\n",
        "    self.input_channels = input_channels\n",
        "    self.init_transform_channel_power = init_transform_channel_power\n",
        "\n",
        "    self.conv_layer_count=conv_layer_count\n",
        "    self.conv_kernel_size=conv_kernel_size\n",
        "    self.conv_stride=conv_stride\n",
        "    self.max_pool_kernel_size=max_pool_kernel_size\n",
        "    self.max_pool_stride=max_pool_stride\n",
        "    self.fc_layer_count=fc_layer_count\n",
        "    self.fc_dropout = fc_dropout\n",
        "    self.fc_ned_dropout = fc_ned_dropout\n",
        "    self.fc_quat_dropout = fc_quat_dropout\n",
        "\n",
        "    self.shared_model = nn.Sequential(*self.get_conv_block(self.input_channels,int(2**self.init_transform_channel_power)))\n",
        "    self.image_size = self.calc_size_after_block(self.image_size)\n",
        "\n",
        "    base_layers_1,output_1 = self.get_base_model()\n",
        "    ned_layers = self.get_ned_model(base_layers_1,output_1)\n",
        "    self.ned_model = nn.Sequential(*ned_layers)\n",
        "\n",
        "    base_layers_2,output_2 = self.get_base_model()\n",
        "    quat_layers = self.get_quat_model(base_layers_2,output_2)\n",
        "    self.quat_model = nn.Sequential(*quat_layers)\n",
        "\n",
        "\n",
        "  def forward(self,X):\n",
        "    output = self.shared_model(X)\n",
        "    return self.ned_model(output), self.quat_model(output)\n",
        "\n",
        "  def get_conv_block(self,input_channel,output_channel):\n",
        "    return [\n",
        "        nn.Conv2d(input_channel,output_channel,kernel_size=self.conv_kernel_size,stride=self.conv_stride),\n",
        "        nn.MaxPool2d(kernel_size=self.max_pool_kernel_size,stride=self.max_pool_stride),\n",
        "        nn.BatchNorm2d(output_channel)\n",
        "    ]\n",
        "    \n",
        "  def calc_size_after_block(self,N):\n",
        "    N = get_cnn_output_size(N,0,self.conv_kernel_size,self.conv_stride)\n",
        "    N = get_cnn_output_size(N,0,self.max_pool_kernel_size,self.max_pool_stride)\n",
        "    return N\n",
        "\n",
        "  def get_conv_layers(self):\n",
        "    layers = []\n",
        "    N = self.image_size\n",
        "    for i in range(self.conv_layer_count):      \n",
        "      input_channel = int(2**(i+self.init_transform_channel_power))\n",
        "      output_channel = int(2**(i+self.init_transform_channel_power+1))\n",
        "      N = self.calc_size_after_block(N)\n",
        "      layers = layers + self.get_conv_block(input_channel,output_channel)\n",
        "      \n",
        "    print(f'layers: {layers}, N: {N}, output_channel: {output_channel}')\n",
        "    return layers, N, output_channel\n",
        "\n",
        "  def get_fc_layers(self,image_size, output_channel):\n",
        "    flattened_size = (image_size**2) * output_channel\n",
        "    print(f'flattened_size: {flattened_size}')\n",
        "    layers = []\n",
        "    for i in range(self.fc_layer_count):\n",
        "      input_size = int(500/(5**(i-1)))\n",
        "      output_size = int(500/(5**(i)))\n",
        "      if(i==0):\n",
        "        input_size = flattened_size\n",
        "\n",
        "      layers = layers + [\n",
        "        nn.Linear(input_size,output_size),\n",
        "        nn.Dropout(self.fc_dropout),\n",
        "      ]\n",
        "\n",
        "    print(f'layers: {layers}, output_size: {output_size}')\n",
        "    return layers,output_size\n",
        "\n",
        "  def get_base_model(self):\n",
        "    conv_layers, N, output_channel = self.get_conv_layers()\n",
        "    fc_layers, output_size = self.get_fc_layers(N, output_channel)\n",
        "    return conv_layers + [nn.Flatten()] + fc_layers, output_size\n",
        "\n",
        "  def get_ned_model(self,layers,output_size):\n",
        "    return layers + [nn.Linear(output_size,3)]\n",
        "  \n",
        "  def get_quat_model(self,layers,output_size):\n",
        "    return layers + [nn.Linear(output_size,4)]\n"
      ],
      "execution_count": 36,
      "outputs": []
    },
    {
      "cell_type": "code",
      "metadata": {
        "id": "yvOFxPVjQUt3",
        "colab_type": "code",
        "colab": {}
      },
      "source": [
        "image_size = 224\n",
        "channel_size = 3\n",
        "image_count = 20\n",
        "\n",
        "input = torch.randn(image_count, channel_size, image_size, image_size)"
      ],
      "execution_count": 37,
      "outputs": []
    },
    {
      "cell_type": "code",
      "metadata": {
        "id": "xoq-YFx0QZVg",
        "colab_type": "code",
        "colab": {
          "base_uri": "https://localhost:8080/",
          "height": 139
        },
        "outputId": "2a5b65aa-19d3-465b-cf58-b41b6ccf1fd5"
      },
      "source": [
        "model = ConvNet(image_size)"
      ],
      "execution_count": 38,
      "outputs": [
        {
          "output_type": "stream",
          "text": [
            "layers: [Conv2d(16, 32, kernel_size=(3, 3), stride=(1, 1)), MaxPool2d(kernel_size=2, stride=2, padding=0, dilation=1, ceil_mode=False), BatchNorm2d(32, eps=1e-05, momentum=0.1, affine=True, track_running_stats=True), Conv2d(32, 64, kernel_size=(3, 3), stride=(1, 1)), MaxPool2d(kernel_size=2, stride=2, padding=0, dilation=1, ceil_mode=False), BatchNorm2d(64, eps=1e-05, momentum=0.1, affine=True, track_running_stats=True)], N: 26, output_channel: 64\n",
            "flattened_size: 43264\n",
            "layers: [Linear(in_features=43264, out_features=500, bias=True), Dropout(p=0.3, inplace=False), Linear(in_features=500, out_features=100, bias=True), Dropout(p=0.3, inplace=False), Linear(in_features=100, out_features=20, bias=True), Dropout(p=0.3, inplace=False), Linear(in_features=20, out_features=4, bias=True), Dropout(p=0.3, inplace=False)], output_size: 4\n",
            "layers: [Conv2d(16, 32, kernel_size=(3, 3), stride=(1, 1)), MaxPool2d(kernel_size=2, stride=2, padding=0, dilation=1, ceil_mode=False), BatchNorm2d(32, eps=1e-05, momentum=0.1, affine=True, track_running_stats=True), Conv2d(32, 64, kernel_size=(3, 3), stride=(1, 1)), MaxPool2d(kernel_size=2, stride=2, padding=0, dilation=1, ceil_mode=False), BatchNorm2d(64, eps=1e-05, momentum=0.1, affine=True, track_running_stats=True)], N: 26, output_channel: 64\n",
            "flattened_size: 43264\n",
            "layers: [Linear(in_features=43264, out_features=500, bias=True), Dropout(p=0.3, inplace=False), Linear(in_features=500, out_features=100, bias=True), Dropout(p=0.3, inplace=False), Linear(in_features=100, out_features=20, bias=True), Dropout(p=0.3, inplace=False), Linear(in_features=20, out_features=4, bias=True), Dropout(p=0.3, inplace=False)], output_size: 4\n"
          ],
          "name": "stdout"
        }
      ]
    },
    {
      "cell_type": "code",
      "metadata": {
        "id": "SDWyQOl4QaEd",
        "colab_type": "code",
        "colab": {}
      },
      "source": [
        "ned,quat = model(input)"
      ],
      "execution_count": 39,
      "outputs": []
    },
    {
      "cell_type": "code",
      "metadata": {
        "id": "4jG3dzvxWMOu",
        "colab_type": "code",
        "colab": {
          "base_uri": "https://localhost:8080/",
          "height": 34
        },
        "outputId": "400525f0-2997-4333-8edf-d96fe431e899"
      },
      "source": [
        "ned.shape"
      ],
      "execution_count": 41,
      "outputs": [
        {
          "output_type": "execute_result",
          "data": {
            "text/plain": [
              "torch.Size([20, 3])"
            ]
          },
          "metadata": {
            "tags": []
          },
          "execution_count": 41
        }
      ]
    },
    {
      "cell_type": "code",
      "metadata": {
        "id": "Ngfqo8RcWNWv",
        "colab_type": "code",
        "colab": {
          "base_uri": "https://localhost:8080/",
          "height": 34
        },
        "outputId": "4a71fafd-d855-4223-8b0f-858e7dae0a9f"
      },
      "source": [
        "quat.shape"
      ],
      "execution_count": 42,
      "outputs": [
        {
          "output_type": "execute_result",
          "data": {
            "text/plain": [
              "torch.Size([20, 4])"
            ]
          },
          "metadata": {
            "tags": []
          },
          "execution_count": 42
        }
      ]
    },
    {
      "cell_type": "code",
      "metadata": {
        "id": "RWK-IS_FWPpe",
        "colab_type": "code",
        "colab": {}
      },
      "source": [
        ""
      ],
      "execution_count": null,
      "outputs": []
    }
  ]
}